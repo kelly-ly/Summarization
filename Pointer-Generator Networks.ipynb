{
 "cells": [
  {
   "cell_type": "markdown",
   "metadata": {},
   "source": [
    "# Pointer-Generator Networks"
   ]
  },
  {
   "cell_type": "markdown",
   "metadata": {},
   "source": [
    "Code: https://github.com/becxer/pointer-generator/"
   ]
  },
  {
   "cell_type": "markdown",
   "metadata": {},
   "source": [
    "Because training takes really long time, we use the pretrained model - Tensorflow 1.2.1 (lstm_cell/bias and lstm_cell/kernel).\n",
    "\n",
    "max_enc_steps: 400  \n",
    "beam_size: 4  \n",
    "min_dec_steps: 35  \n",
    "max_dec_steps: 100  "
   ]
  },
  {
   "cell_type": "markdown",
   "metadata": {},
   "source": [
    "### Baseline Seq2Seq + Attention:\n",
    "python run_summarization.py --mode=decode --data_path=./path/to/chunked/test_* --vocab_path=./path/to/vocab --log_root=./pretrained_model --exp_name=pretrained_model_tf1.2.1 --max_enc_steps=400 --max_dec_steps=120 --single_pass=1 pointer_gen=False"
   ]
  },
  {
   "cell_type": "markdown",
   "metadata": {},
   "source": [
    "### Run Pointer-Gen:\n",
    "\n",
    "python run_summarization.py --mode=decode --data_path=./path/to/chunked/test_* --vocab_path=./path/to/vocab --log_root=./pretrained_model --exp_name=pretrained_model_tf1.2.1 --max_enc_steps=400 --max_dec_steps=120 --single_pass=1"
   ]
  },
  {
   "cell_type": "markdown",
   "metadata": {},
   "source": [
    "### Run Pointer-Gen + Coverage:\n",
    "\n",
    "python run_summarization.py --mode=decode --data_path=./path/to/chunked/test_* --vocab_path=./path/to/vocab --log_root=./pretrained_model --exp_name=pretrained_model_tf1.2.1 --max_enc_steps=400 --max_dec_steps=120 --coverage=1 --single_pass=1"
   ]
  },
  {
   "cell_type": "markdown",
   "metadata": {},
   "source": [
    "### Baseline Seq2Seq + Attention:  \n",
    "\n",
    "---------------------------------------------\n",
    "1 ROUGE-1 Average_R: 0.19724 (95%-conf.int. 0.19417 - 0.20016)  \n",
    "1 ROUGE-1 Average_P: 0.16309 (95%-conf.int. 0.16089 - 0.16520)  \n",
    "1 ROUGE-1 Average_F: 0.17329 (95%-conf.int. 0.17104 - 0.17554)  \n",
    "\n",
    "---------------------------------------------\n",
    "1 ROUGE-2 Average_R: 0.03765 (95%-conf.int. 0.03630 - 0.03900)  \n",
    "1 ROUGE-2 Average_P: 0.03061 (95%-conf.int. 0.02952 - 0.03180)  \n",
    "1 ROUGE-2 Average_F: 0.03280 (95%-conf.int. 0.03168 - 0.03398)  \n",
    "\n",
    "---------------------------------------------\n",
    "1 ROUGE-3 Average_R: 0.01034 (95%-conf.int. 0.00955 - 0.01115)  \n",
    "1 ROUGE-3 Average_P: 0.00858 (95%-conf.int. 0.00789 - 0.00932)  \n",
    "1 ROUGE-3 Average_F: 0.00912 (95%-conf.int. 0.00840 - 0.00988)  \n",
    "\n",
    "---------------------------------------------\n",
    "1 ROUGE-4 Average_R: 0.00413 (95%-conf.int. 0.00360 - 0.00467)  \n",
    "1 ROUGE-4 Average_P: 0.00353 (95%-conf.int. 0.00299 - 0.00411)  \n",
    "1 ROUGE-4 Average_F: 0.00370 (95%-conf.int. 0.00319 - 0.00423)  \n",
    "\n",
    "---------------------------------------------\n",
    "1 ROUGE-L Average_R: 0.18656 (95%-conf.int. 0.18368 - 0.18923)  \n",
    "1 ROUGE-L Average_P: 0.15426 (95%-conf.int. 0.15234 - 0.15621)  \n",
    "1 ROUGE-L Average_F: 0.16392 (95%-conf.int. 0.16177 - 0.16606)  \n",
    "\n",
    "---------------------------------------------\n",
    "1 ROUGE-W-1.2 Average_R: 0.08346 (95%-conf.int. 0.08229 - 0.08463)  \n",
    "1 ROUGE-W-1.2 Average_P: 0.11543 (95%-conf.int. 0.11398 - 0.11683)  \n",
    "1 ROUGE-W-1.2 Average_F: 0.09392 (95%-conf.int. 0.09276 - 0.09511)  \n",
    "\n",
    "---------------------------------------------\n",
    "1 ROUGE-S* Average_R: 0.04195 (95%-conf.int. 0.04061 - 0.04325)  \n",
    "1 ROUGE-S* Average_P: 0.02631 (95%-conf.int. 0.02552 - 0.02708)  \n",
    "1 ROUGE-S* Average_F: 0.02900 (95%-conf.int. 0.02825 - 0.02981)  \n",
    "\n",
    "---------------------------------------------\n",
    "1 ROUGE-SU* Average_R: 0.04985 (95%-conf.int. 0.04845 - 0.05126)  \n",
    "1 ROUGE-SU* Average_P: 0.03262 (95%-conf.int. 0.03179 - 0.03347)  \n",
    "1 ROUGE-SU* Average_F: 0.03545 (95%-conf.int. 0.03464 - 0.03632)  "
   ]
  },
  {
   "cell_type": "markdown",
   "metadata": {},
   "source": [
    "### Run Pointer-Gen:  \n",
    "\n",
    "---------------------------------------------\n",
    "1 ROUGE-1 Average_R: 0.32946 (95%-conf.int. 0.32556 - 0.33319)  \n",
    "1 ROUGE-1 Average_P: 0.36335 (95%-conf.int. 0.35941 - 0.36766)  \n",
    "1 ROUGE-1 Average_F: 0.33369 (95%-conf.int. 0.33026 - 0.33717)  \n",
    "\n",
    "---------------------------------------------\n",
    "1 ROUGE-2 Average_R: 0.13344 (95%-conf.int. 0.13026 - 0.13651)  \n",
    "1 ROUGE-2 Average_P: 0.14790 (95%-conf.int. 0.14432 - 0.15168)  \n",
    "1 ROUGE-2 Average_F: 0.13544 (95%-conf.int. 0.13226 - 0.13863)  \n",
    "\n",
    "---------------------------------------------\n",
    "1 ROUGE-3 Average_R: 0.07178 (95%-conf.int. 0.06900 - 0.07453)  \n",
    "1 ROUGE-3 Average_P: 0.08001 (95%-conf.int. 0.07692 - 0.08309)  \n",
    "1 ROUGE-3 Average_F: 0.07297 (95%-conf.int. 0.07012 - 0.07569)  \n",
    "\n",
    "---------------------------------------------\n",
    "1 ROUGE-4 Average_R: 0.04642 (95%-conf.int. 0.04409 - 0.04879)  \n",
    "1 ROUGE-4 Average_P: 0.05175 (95%-conf.int. 0.04904 - 0.05440)  \n",
    "1 ROUGE-4 Average_F: 0.04711 (95%-conf.int. 0.04479 - 0.04947)  \n",
    "\n",
    "---------------------------------------------\n",
    "1 ROUGE-L Average_R: 0.30469 (95%-conf.int. 0.30101 - 0.30836)  \n",
    "1 ROUGE-L Average_P: 0.33513 (95%-conf.int. 0.33141 - 0.33953)  \n",
    "1 ROUGE-L Average_F: 0.30820 (95%-conf.int. 0.30502 - 0.31168)  \n",
    "\n",
    "---------------------------------------------\n",
    "1 ROUGE-W-1.2 Average_R: 0.12750 (95%-conf.int. 0.12581 - 0.12900)  \n",
    "1 ROUGE-W-1.2 Average_P: 0.24846 (95%-conf.int. 0.24541 - 0.25171)  \n",
    "1 ROUGE-W-1.2 Average_F: 0.16243 (95%-conf.int. 0.16059 - 0.16424)  \n",
    "\n",
    "---------------------------------------------\n",
    "1 ROUGE-S* Average_R: 0.10613 (95%-conf.int. 0.10353 - 0.10869)  \n",
    "1 ROUGE-S* Average_P: 0.12745 (95%-conf.int. 0.12439 - 0.13081)  \n",
    "1 ROUGE-S* Average_F: 0.10182 (95%-conf.int. 0.09947 - 0.10408)  \n",
    "\n",
    "---------------------------------------------\n",
    "1 ROUGE-SU* Average_R: 0.11523 (95%-conf.int. 0.11256 - 0.11785)  \n",
    "1 ROUGE-SU* Average_P: 0.13847 (95%-conf.int. 0.13539 - 0.14188)  \n",
    "1 ROUGE-SU* Average_F: 0.11108 (95%-conf.int. 0.10872 - 0.11334)  "
   ]
  },
  {
   "cell_type": "markdown",
   "metadata": {},
   "source": [
    "### Run Pointer-Gen + Coverage:  \n",
    "\n",
    "---------------------------------------------\n",
    "1 ROUGE-1 Average_R: 0.35997 (95%-conf.int. 0.35615 - 0.36378)  \n",
    "1 ROUGE-1 Average_P: 0.38686 (95%-conf.int. 0.38270 - 0.39112)  \n",
    "1 ROUGE-1 Average_F: 0.36064 (95%-conf.int. 0.35717 - 0.36415)  \n",
    "\n",
    "---------------------------------------------\n",
    "1 ROUGE-2 Average_R: 0.14822 (95%-conf.int. 0.14473 - 0.15167)  \n",
    "1 ROUGE-2 Average_P: 0.15911 (95%-conf.int. 0.15543 - 0.16271)  \n",
    "1 ROUGE-2 Average_F: 0.14829 (95%-conf.int. 0.14488 - 0.15169)  \n",
    "\n",
    "---------------------------------------------\n",
    "1 ROUGE-3 Average_R: 0.08073 (95%-conf.int. 0.07786 - 0.08362)  \n",
    "1 ROUGE-3 Average_P: 0.08676 (95%-conf.int. 0.08375 - 0.08976)  \n",
    "1 ROUGE-3 Average_F: 0.08070 (95%-conf.int. 0.07784 - 0.08348)  \n",
    "\n",
    "---------------------------------------------\n",
    "1 ROUGE-4 Average_R: 0.05262 (95%-conf.int. 0.05011 - 0.05518)  \n",
    "1 ROUGE-4 Average_P: 0.05630 (95%-conf.int. 0.05366 - 0.05890)  \n",
    "1 ROUGE-4 Average_F: 0.05239 (95%-conf.int. 0.04992 - 0.05486)  \n",
    "\n",
    "---------------------------------------------\n",
    "1 ROUGE-L Average_R: 0.33122 (95%-conf.int. 0.32745 - 0.33498)  \n",
    "1 ROUGE-L Average_P: 0.35529 (95%-conf.int. 0.35125 - 0.35940)  \n",
    "1 ROUGE-L Average_F: 0.33152 (95%-conf.int. 0.32803 - 0.33488)  \n",
    "\n",
    "---------------------------------------------\n",
    "1 ROUGE-W-1.2 Average_R: 0.13893 (95%-conf.int. 0.13718 - 0.14065)  \n",
    "1 ROUGE-W-1.2 Average_P: 0.26390 (95%-conf.int. 0.26072 - 0.26709)  \n",
    "1 ROUGE-W-1.2 Average_F: 0.17577 (95%-conf.int. 0.17381 - 0.17766)  \n",
    "\n",
    "---------------------------------------------\n",
    "1 ROUGE-S* Average_R: 0.11987 (95%-conf.int. 0.11703 - 0.12267)  \n",
    "1 ROUGE-S* Average_P: 0.13656 (95%-conf.int. 0.13339 - 0.13997)  \n",
    "1 ROUGE-S* Average_F: 0.11277 (95%-conf.int. 0.11042 - 0.11524)  \n",
    "\n",
    "---------------------------------------------\n",
    "1 ROUGE-SU* Average_R: 0.12979 (95%-conf.int. 0.12690 - 0.13262)  \n",
    "1 ROUGE-SU* Average_P: 0.14818 (95%-conf.int. 0.14492 - 0.15164)  \n",
    "1 ROUGE-SU* Average_F: 0.12276 (95%-conf.int. 0.12038 - 0.12530)  "
   ]
  },
  {
   "cell_type": "code",
   "execution_count": null,
   "metadata": {},
   "outputs": [],
   "source": []
  }
 ],
 "metadata": {
  "kernelspec": {
   "display_name": "pytorch",
   "language": "python",
   "name": "pytorch"
  },
  "language_info": {
   "codemirror_mode": {
    "name": "ipython",
    "version": 3
   },
   "file_extension": ".py",
   "mimetype": "text/x-python",
   "name": "python",
   "nbconvert_exporter": "python",
   "pygments_lexer": "ipython3",
   "version": "3.7.10"
  }
 },
 "nbformat": 4,
 "nbformat_minor": 4
}
