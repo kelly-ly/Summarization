{
 "cells": [
  {
   "cell_type": "code",
   "execution_count": 1,
   "metadata": {},
   "outputs": [],
   "source": [
    "import warnings\n",
    "warnings.filterwarnings('ignore')"
   ]
  },
  {
   "cell_type": "code",
   "execution_count": 3,
   "metadata": {},
   "outputs": [
    {
     "name": "stderr",
     "output_type": "stream",
     "text": [
      "Some weights of the model checkpoint at bert-large-uncased were not used when initializing BertModel: ['cls.predictions.decoder.weight', 'cls.predictions.bias', 'cls.seq_relationship.weight', 'cls.predictions.transform.dense.weight', 'cls.predictions.transform.dense.bias', 'cls.predictions.transform.LayerNorm.bias', 'cls.seq_relationship.bias', 'cls.predictions.transform.LayerNorm.weight']\n",
      "- This IS expected if you are initializing BertModel from the checkpoint of a model trained on another task or with another architecture (e.g. initializing a BertForSequenceClassification model from a BertForPreTraining model).\n",
      "- This IS NOT expected if you are initializing BertModel from the checkpoint of a model that you expect to be exactly identical (initializing a BertForSequenceClassification model from a BertForSequenceClassification model).\n"
     ]
    },
    {
     "name": "stdout",
     "output_type": "stream",
     "text": [
      "Write example  000000_result.txt .\n",
      "Write example  000500_result.txt .\n",
      "Write example  001000_result.txt .\n",
      "Write example  001500_result.txt .\n",
      "Write example  002000_result.txt .\n",
      "Write example  002500_result.txt .\n",
      "Write example  003000_result.txt .\n",
      "Write example  003500_result.txt .\n",
      "Write example  004000_result.txt .\n",
      "Write example  004500_result.txt .\n",
      "Write example  005000_result.txt .\n",
      "Write example  005500_result.txt .\n",
      "Write example  006000_result.txt .\n",
      "Write example  006500_result.txt .\n",
      "Write example  007000_result.txt .\n",
      "Write example  007500_result.txt .\n",
      "Write example  008000_result.txt .\n",
      "Write example  008500_result.txt .\n",
      "Write example  009000_result.txt .\n",
      "Write example  009500_result.txt .\n",
      "Write example  010000_result.txt .\n",
      "Write example  010500_result.txt .\n",
      "Write example  011000_result.txt .\n"
     ]
    }
   ],
   "source": [
    "from summarizer import Summarizer\n",
    "import os\n",
    "\n",
    "model = Summarizer()\n",
    "article_dir = \"./my_evalue/articles\"\n",
    "result_dir = \"./my_evalue/bert\"\n",
    "\n",
    "for id in range(11490):\n",
    "    id = str(id)\n",
    "    article_name = str(id).zfill(6) + \"_article.txt\"\n",
    "    result_name = str(id).zfill(6) + \"_result.txt\"\n",
    "    article_path = os.path.join(article_dir, article_name)\n",
    "    result_path = os.path.join(result_dir, result_name)\n",
    "    \n",
    "    with open(article_path, \"r\") as f:\n",
    "        article_doc = f.read().splitlines()\n",
    "        current_article = \" \".join(article_doc)\n",
    "    \n",
    "    result = model(current_article, num_sentences=3, min_length=1, max_length=600)\n",
    "    \n",
    "    with open(result_path,\"w\") as f:\n",
    "        f.write(result)\n",
    "        if int(id)%500==0:\n",
    "            print(\"Write example \",result_name, \".\")"
   ]
  },
  {
   "cell_type": "markdown",
   "metadata": {},
   "source": [
    "### bert-extractive-summarizer:\n",
    "\n",
    "---------------------------------------------  \n",
    "1 ROUGE-1 Average_R: 0.27869 (95%-conf.int. 0.27672 - 0.28066)  \n",
    "1 ROUGE-1 Average_P: 0.48063 (95%-conf.int. 0.47794 - 0.48322)  \n",
    "1 ROUGE-1 Average_F: 0.34087 (95%-conf.int. 0.33881 - 0.34267)  \n",
    "\n",
    "---------------------------------------------  \n",
    "1 ROUGE-2 Average_R: 0.09931 (95%-conf.int. 0.09781 - 0.10083)  \n",
    "1 ROUGE-2 Average_P: 0.17181 (95%-conf.int. 0.16942 - 0.17414)  \n",
    "1 ROUGE-2 Average_F: 0.12140 (95%-conf.int. 0.11966 - 0.12306)  \n",
    "\n",
    "---------------------------------------------  \n",
    "1 ROUGE-3 Average_R: 0.05144 (95%-conf.int. 0.05010 - 0.05269)  \n",
    "1 ROUGE-3 Average_P: 0.08803 (95%-conf.int. 0.08611 - 0.09001)  \n",
    "1 ROUGE-3 Average_F: 0.06248 (95%-conf.int. 0.06102 - 0.06386)  \n",
    "\n",
    "---------------------------------------------  \n",
    "1 ROUGE-4 Average_R: 0.03265 (95%-conf.int. 0.03152 - 0.03371)  \n",
    "1 ROUGE-4 Average_P: 0.05521 (95%-conf.int. 0.05352 - 0.05684)  \n",
    "1 ROUGE-4 Average_F: 0.03937 (95%-conf.int. 0.03815 - 0.04056)  \n",
    "\n",
    "---------------------------------------------  \n",
    "1 ROUGE-L Average_R: 0.21117 (95%-conf.int. 0.20949 - 0.21286)  \n",
    "1 ROUGE-L Average_P: 0.36567 (95%-conf.int. 0.36311 - 0.36805)  \n",
    "1 ROUGE-L Average_F: 0.25860 (95%-conf.int. 0.25679 - 0.26025)  \n",
    "\n",
    "---------------------------------------------  \n",
    "1 ROUGE-W-1.2 Average_R: 0.06317 (95%-conf.int. 0.06263 - 0.06373)  \n",
    "1 ROUGE-W-1.2 Average_P: 0.26666 (95%-conf.int. 0.26478 - 0.26853)  \n",
    "1 ROUGE-W-1.2 Average_F: 0.09933 (95%-conf.int. 0.09857 - 0.10005)  \n",
    "\n",
    "---------------------------------------------  \n",
    "1 ROUGE-S* Average_R: 0.07335 (95%-conf.int. 0.07219 - 0.07449)  \n",
    "1 ROUGE-S* Average_P: 0.20548 (95%-conf.int. 0.20296 - 0.20786)  \n",
    "1 ROUGE-S* Average_F: 0.09634 (95%-conf.int. 0.09521 - 0.09747)  \n",
    "\n",
    "---------------------------------------------  \n",
    "1 ROUGE-SU* Average_R: 0.07807 (95%-conf.int. 0.07689 - 0.07925)  \n",
    "1 ROUGE-SU* Average_P: 0.21692 (95%-conf.int. 0.21442 - 0.21933)  \n",
    "1 ROUGE-SU* Average_F: 0.10262 (95%-conf.int. 0.10146 - 0.10377)  "
   ]
  },
  {
   "cell_type": "code",
   "execution_count": null,
   "metadata": {},
   "outputs": [],
   "source": []
  }
 ],
 "metadata": {
  "kernelspec": {
   "display_name": "pytorch",
   "language": "python",
   "name": "pytorch"
  },
  "language_info": {
   "codemirror_mode": {
    "name": "ipython",
    "version": 3
   },
   "file_extension": ".py",
   "mimetype": "text/x-python",
   "name": "python",
   "nbconvert_exporter": "python",
   "pygments_lexer": "ipython3",
   "version": "3.7.10"
  }
 },
 "nbformat": 4,
 "nbformat_minor": 4
}
