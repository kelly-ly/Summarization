{
 "cells": [
  {
   "cell_type": "markdown",
   "metadata": {},
   "source": [
    "# Pointer-Generator Networks"
   ]
  },
  {
   "cell_type": "markdown",
   "metadata": {},
   "source": [
    "Code: https://github.com/becxer/pointer-generator/"
   ]
  },
  {
   "cell_type": "markdown",
   "metadata": {},
   "source": [
    "Because training takes really long time, we use the pretrained model - Tensorflow 1.2.1 (lstm_cell/bias and lstm_cell/kernel).\n",
    "\n",
    "max_enc_steps: 400  \n",
    "beam_size: 4  \n",
    "min_dec_steps: 35  \n",
    "max_dec_steps: 100  "
   ]
  },
  {
   "cell_type": "markdown",
   "metadata": {},
   "source": [
    "### Baseline Seq2Seq + Attention:\n",
    "python run_summarization.py --mode=decode --data_path=./path/to/chunked/test_* --vocab_path=./path/to/vocab --log_root=./pretrained_model --exp_name=pretrained_model_tf1.2.1 --max_enc_steps=400 --max_dec_steps=120 --single_pass=1 pointer_gen=False"
   ]
  },
  {
   "cell_type": "markdown",
   "metadata": {},
   "source": [
    "### Run Pointer-Gen:\n",
    "\n",
    "python run_summarization.py --mode=decode --data_path=./path/to/chunked/test_* --vocab_path=./path/to/vocab --log_root=./pretrained_model --exp_name=pretrained_model_tf1.2.1 --max_enc_steps=400 --max_dec_steps=120 --single_pass=1"
   ]
  },
  {
   "cell_type": "markdown",
   "metadata": {},
   "source": [
    "### Run Pointer-Gen + Coverage:\n",
    "\n",
    "python run_summarization.py --mode=decode --data_path=./path/to/chunked/test_* --vocab_path=./path/to/vocab --log_root=./pretrained_model --exp_name=pretrained_model_tf1.2.1 --max_enc_steps=400 --max_dec_steps=120 --coverage=1 --single_pass=1"
   ]
  },
  {
   "cell_type": "markdown",
   "metadata": {},
   "source": [
    "### Baseline Seq2Seq + Attention:  \n",
    "\n",
    "---------------------------------------------  \n",
    "1 ROUGE-1 Average_R: 0.35160 (95%-conf.int. 0.34888 - 0.35431)  \n",
    "1 ROUGE-1 Average_P: 0.29950 (95%-conf.int. 0.29745 - 0.30156)  \n",
    "1 ROUGE-1 Average_F: 0.31333 (95%-conf.int. 0.31131 - 0.31532)  \n",
    "\n",
    "---------------------------------------------  \n",
    "1 ROUGE-2 Average_R: 0.13327 (95%-conf.int. 0.13123 - 0.13534)  \n",
    "1 ROUGE-2 Average_P: 0.11265 (95%-conf.int. 0.11093 - 0.11434)  \n",
    "1 ROUGE-2 Average_F: 0.11810 (95%-conf.int. 0.11638 - 0.11987)  \n",
    "\n",
    "---------------------------------------------  \n",
    "1 ROUGE-3 Average_R: 0.07134 (95%-conf.int. 0.06969 - 0.07301)  \n",
    "1 ROUGE-3 Average_P: 0.05946 (95%-conf.int. 0.05808 - 0.06087)  \n",
    "1 ROUGE-3 Average_F: 0.06263 (95%-conf.int. 0.06116 - 0.06404)  \n",
    "\n",
    "---------------------------------------------  \n",
    "1 ROUGE-4 Average_R: 0.04495 (95%-conf.int. 0.04348 - 0.04642)  \n",
    "1 ROUGE-4 Average_P: 0.03682 (95%-conf.int. 0.03567 - 0.03800)  \n",
    "1 ROUGE-4 Average_F: 0.03903 (95%-conf.int. 0.03781 - 0.04025)  \n",
    "\n",
    "---------------------------------------------  \n",
    "1 ROUGE-L Average_R: 0.32681 (95%-conf.int. 0.32421 - 0.32947)  \n",
    "1 ROUGE-L Average_P: 0.27835 (95%-conf.int. 0.27635 - 0.28034)  \n",
    "1 ROUGE-L Average_F: 0.29125 (95%-conf.int. 0.28920 - 0.29318)  \n",
    "\n",
    "---------------------------------------------  \n",
    "1 ROUGE-W-1.2 Average_R: 0.13910 (95%-conf.int. 0.13796 - 0.14025)  \n",
    "1 ROUGE-W-1.2 Average_P: 0.20670 (95%-conf.int. 0.20518 - 0.20827)  \n",
    "1 ROUGE-W-1.2 Average_F: 0.16090 (95%-conf.int. 0.15973 - 0.16201)  \n",
    "\n",
    "---------------------------------------------  \n",
    "1 ROUGE-S* Average_R: 0.12452 (95%-conf.int. 0.12246 - 0.12652)  \n",
    "1 ROUGE-S* Average_P: 0.08765 (95%-conf.int. 0.08633 - 0.08906)  \n",
    "1 ROUGE-S* Average_F: 0.09148 (95%-conf.int. 0.09020 - 0.09275)  \n",
    "\n",
    "---------------------------------------------  \n",
    "1 ROUGE-SU* Average_R: 0.13495 (95%-conf.int. 0.13285 - 0.13697)  \n",
    "1 ROUGE-SU* Average_P: 0.09652 (95%-conf.int. 0.09520 - 0.09796)  \n",
    "1 ROUGE-SU* Average_F: 0.10047 (95%-conf.int. 0.09916 - 0.10174)  "
   ]
  },
  {
   "cell_type": "markdown",
   "metadata": {},
   "source": [
    "### Run Pointer-Gen:  \n",
    "\n",
    "---------------------------------------------  \n",
    "1 ROUGE-1 Average_R: 0.37758 (95%-conf.int. 0.37493 - 0.38040)  \n",
    "1 ROUGE-1 Average_P: 0.37601 (95%-conf.int. 0.37322 - 0.37871)  \n",
    "1 ROUGE-1 Average_F: 0.36435 (95%-conf.int. 0.36191 - 0.36665)  \n",
    "\n",
    "---------------------------------------------  \n",
    "1 ROUGE-2 Average_R: 0.16312 (95%-conf.int. 0.16065 - 0.16553)  \n",
    "1 ROUGE-2 Average_P: 0.16116 (95%-conf.int. 0.15866 - 0.16356)  \n",
    "1 ROUGE-2 Average_F: 0.15661 (95%-conf.int. 0.15433 - 0.15889)  \n",
    "\n",
    "---------------------------------------------  \n",
    "1 ROUGE-3 Average_R: 0.09581 (95%-conf.int. 0.09358 - 0.09801)  \n",
    "1 ROUGE-3 Average_P: 0.09321 (95%-conf.int. 0.09114 - 0.09521)  \n",
    "1 ROUGE-3 Average_F: 0.09116 (95%-conf.int. 0.08913 - 0.09320)  \n",
    "\n",
    "---------------------------------------------  \n",
    "1 ROUGE-4 Average_R: 0.06537 (95%-conf.int. 0.06344 - 0.06735)  \n",
    "1 ROUGE-4 Average_P: 0.06255 (95%-conf.int. 0.06070 - 0.06435)  \n",
    "1 ROUGE-4 Average_F: 0.06160 (95%-conf.int. 0.05987 - 0.06344)  \n",
    "\n",
    "---------------------------------------------  \n",
    "1 ROUGE-L Average_R: 0.34862 (95%-conf.int. 0.34589 - 0.35124)  \n",
    "1 ROUGE-L Average_P: 0.34674 (95%-conf.int. 0.34402 - 0.34940)  \n",
    "1 ROUGE-L Average_F: 0.33620 (95%-conf.int. 0.33393 - 0.33854)  \n",
    "\n",
    "---------------------------------------------  \n",
    "1 ROUGE-W-1.2 Average_R: 0.14409 (95%-conf.int. 0.14287 - 0.14525)  \n",
    "1 ROUGE-W-1.2 Average_P: 0.25619 (95%-conf.int. 0.25407 - 0.25825)  \n",
    "1 ROUGE-W-1.2 Average_F: 0.17823 (95%-conf.int. 0.17690 - 0.17956)  \n",
    "\n",
    "---------------------------------------------  \n",
    "1 ROUGE-S* Average_R: 0.14034 (95%-conf.int. 0.13828 - 0.14251)  \n",
    "1 ROUGE-S* Average_P: 0.13559 (95%-conf.int. 0.13352 - 0.13761)  \n",
    "1 ROUGE-S* Average_F: 0.12171 (95%-conf.int. 0.12005 - 0.12336)  \n",
    "\n",
    "---------------------------------------------  \n",
    "1 ROUGE-SU* Average_R: 0.14976 (95%-conf.int. 0.14765 - 0.15195)  \n",
    "1 ROUGE-SU* Average_P: 0.14559 (95%-conf.int. 0.14352 - 0.14762)  \n",
    "1 ROUGE-SU* Average_F: 0.13083 (95%-conf.int. 0.12915 - 0.13251)  "
   ]
  },
  {
   "cell_type": "markdown",
   "metadata": {},
   "source": [
    "### Run Pointer-Gen + Coverage:  \n",
    "\n",
    "---------------------------------------------  \n",
    "1 ROUGE-1 Average_R: 0.39051 (95%-conf.int. 0.38786 - 0.39317)  \n",
    "1 ROUGE-1 Average_P: 0.43018 (95%-conf.int. 0.42747 - 0.43281)  \n",
    "1 ROUGE-1 Average_F: 0.39529 (95%-conf.int. 0.39307 - 0.39739)  \n",
    "\n",
    "---------------------------------------------  \n",
    "1 ROUGE-2 Average_R: 0.17156 (95%-conf.int. 0.16909 - 0.17398)  \n",
    "1 ROUGE-2 Average_P: 0.18772 (95%-conf.int. 0.18536 - 0.19019)  \n",
    "1 ROUGE-2 Average_F: 0.17281 (95%-conf.int. 0.17058 - 0.17508)  \n",
    "\n",
    "---------------------------------------------  \n",
    "1 ROUGE-3 Average_R: 0.10079 (95%-conf.int. 0.09864 - 0.10292)  \n",
    "1 ROUGE-3 Average_P: 0.10831 (95%-conf.int. 0.10611 - 0.11061)  \n",
    "1 ROUGE-3 Average_F: 0.10050 (95%-conf.int. 0.09846 - 0.10251)  \n",
    "\n",
    "---------------------------------------------  \n",
    "1 ROUGE-4 Average_R: 0.06846 (95%-conf.int. 0.06646 - 0.07040)  \n",
    "1 ROUGE-4 Average_P: 0.07214 (95%-conf.int. 0.07024 - 0.07422)  \n",
    "1 ROUGE-4 Average_F: 0.06749 (95%-conf.int. 0.06575 - 0.06936)  \n",
    "\n",
    "---------------------------------------------  \n",
    "1 ROUGE-L Average_R: 0.35820 (95%-conf.int. 0.35568 - 0.36076)  \n",
    "1 ROUGE-L Average_P: 0.39428 (95%-conf.int. 0.39170 - 0.39689)  \n",
    "1 ROUGE-L Average_F: 0.36244 (95%-conf.int. 0.36029 - 0.36461)  \n",
    "\n",
    "---------------------------------------------  \n",
    "1 ROUGE-W-1.2 Average_R: 0.14349 (95%-conf.int. 0.14231 - 0.14470)  \n",
    "1 ROUGE-W-1.2 Average_P: 0.28711 (95%-conf.int. 0.28509 - 0.28906)  \n",
    "1 ROUGE-W-1.2 Average_F: 0.18471 (95%-conf.int. 0.18344 - 0.18596)  \n",
    "\n",
    "---------------------------------------------  \n",
    "1 ROUGE-S* Average_R: 0.14317 (95%-conf.int. 0.14094 - 0.14525)  \n",
    "1 ROUGE-S* Average_P: 0.16992 (95%-conf.int. 0.16768 - 0.17209)  \n",
    "1 ROUGE-S* Average_F: 0.13637 (95%-conf.int. 0.13463 - 0.13804)  \n",
    "\n",
    "---------------------------------------------  \n",
    "1 ROUGE-SU* Average_R: 0.15212 (95%-conf.int. 0.14989 - 0.15425)  \n",
    "1 ROUGE-SU* Average_P: 0.18071 (95%-conf.int. 0.17844 - 0.18285)  \n",
    "1 ROUGE-SU* Average_F: 0.14558 (95%-conf.int. 0.14383 - 0.14725)  "
   ]
  }
 ],
 "metadata": {
  "kernelspec": {
   "display_name": "pytorch",
   "language": "python",
   "name": "pytorch"
  }
 },
 "nbformat": 4,
 "nbformat_minor": 4
}
