{
 "cells": [
  {
   "cell_type": "code",
   "execution_count": 1,
   "metadata": {},
   "outputs": [],
   "source": [
    "import warnings\n",
    "warnings.filterwarnings('ignore')"
   ]
  },
  {
   "cell_type": "code",
   "execution_count": 3,
   "metadata": {},
   "outputs": [
    {
     "name": "stderr",
     "output_type": "stream",
     "text": [
      "Some weights of the model checkpoint at bert-large-uncased were not used when initializing BertModel: ['cls.predictions.decoder.weight', 'cls.predictions.bias', 'cls.seq_relationship.weight', 'cls.predictions.transform.dense.weight', 'cls.predictions.transform.dense.bias', 'cls.predictions.transform.LayerNorm.bias', 'cls.seq_relationship.bias', 'cls.predictions.transform.LayerNorm.weight']\n",
      "- This IS expected if you are initializing BertModel from the checkpoint of a model trained on another task or with another architecture (e.g. initializing a BertForSequenceClassification model from a BertForPreTraining model).\n",
      "- This IS NOT expected if you are initializing BertModel from the checkpoint of a model that you expect to be exactly identical (initializing a BertForSequenceClassification model from a BertForSequenceClassification model).\n"
     ]
    },
    {
     "name": "stdout",
     "output_type": "stream",
     "text": [
      "Write example  000000_result.txt .\n",
      "Write example  000500_result.txt .\n",
      "Write example  001000_result.txt .\n",
      "Write example  001500_result.txt .\n",
      "Write example  002000_result.txt .\n",
      "Write example  002500_result.txt .\n",
      "Write example  003000_result.txt .\n",
      "Write example  003500_result.txt .\n",
      "Write example  004000_result.txt .\n",
      "Write example  004500_result.txt .\n",
      "Write example  005000_result.txt .\n",
      "Write example  005500_result.txt .\n",
      "Write example  006000_result.txt .\n",
      "Write example  006500_result.txt .\n",
      "Write example  007000_result.txt .\n",
      "Write example  007500_result.txt .\n",
      "Write example  008000_result.txt .\n",
      "Write example  008500_result.txt .\n",
      "Write example  009000_result.txt .\n",
      "Write example  009500_result.txt .\n",
      "Write example  010000_result.txt .\n",
      "Write example  010500_result.txt .\n",
      "Write example  011000_result.txt .\n"
     ]
    }
   ],
   "source": [
    "from summarizer import Summarizer\n",
    "import os\n",
    "\n",
    "model = Summarizer()\n",
    "article_dir = \"./my_evalue/articles\"\n",
    "result_dir = \"./my_evalue/bert\"\n",
    "\n",
    "for id in range(11490):\n",
    "    id = str(id)\n",
    "    article_name = str(id).zfill(6) + \"_article.txt\"\n",
    "    result_name = str(id).zfill(6) + \"_result.txt\"\n",
    "    article_path = os.path.join(article_dir, article_name)\n",
    "    result_path = os.path.join(result_dir, result_name)\n",
    "    \n",
    "    with open(article_path, \"r\") as f:\n",
    "        article_doc = f.read().splitlines()\n",
    "        current_article = \" \".join(article_doc)\n",
    "    \n",
    "    result = model(current_article, num_sentences=3, min_length=1, max_length=600)\n",
    "    \n",
    "    with open(result_path,\"w\") as f:\n",
    "        f.write(result)\n",
    "        if int(id)%500==0:\n",
    "            print(\"Write example \",result_name, \".\")"
   ]
  },
  {
   "cell_type": "code",
   "execution_count": null,
   "metadata": {},
   "outputs": [],
   "source": [
    "from pyrouge import Rouge155\n",
    "\n",
    "r = Rouge155()\n",
    "r.system_dir = \"./my_evalue/reference\"\n",
    "r.model_dir = \"./my_evalue/bert\"\n",
    "r.system_filename_pattern = '(\\d+)_reference.txt'\n",
    "r.model_filename_pattern = '#ID#_result.txt'\n",
    "\n",
    "output = r.convert_and_evaluate()\n",
    "print(output)\n",
    "output_dict = r.output_to_dict(output)"
   ]
  },
  {
   "cell_type": "code",
   "execution_count": null,
   "metadata": {},
   "outputs": [],
   "source": []
  }
 ],
 "metadata": {
  "kernelspec": {
   "display_name": "pytorch",
   "language": "python",
   "name": "pytorch"
  },
  "language_info": {
   "codemirror_mode": {
    "name": "ipython",
    "version": 3
   },
   "file_extension": ".py",
   "mimetype": "text/x-python",
   "name": "python",
   "nbconvert_exporter": "python",
   "pygments_lexer": "ipython3",
   "version": "3.7.10"
  }
 },
 "nbformat": 4,
 "nbformat_minor": 4
}
